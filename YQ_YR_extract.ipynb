{
 "cells": [
  {
   "cell_type": "code",
   "execution_count": 43,
   "metadata": {
    "scrolled": true
   },
   "outputs": [
    {
     "name": "stdout",
     "output_type": "stream",
     "text": [
      "500\n",
      "k 0\n",
      "$672Delta + others\n",
      "line1 [u'Fare', u'1:', u'Carrier', u'DL', u'ULE0WNMD', u'DFW', u'to', u'CMB', u'(rules)', u'Passenger', u'type', u'ADT,', u'one-way', u'fare,', u'booking', u'code', u'U,', u'Q', u'Covers', u'DFW-DTW', u'(Economy),', u'DTW-PVG', u'(Economy),', u'PVG-CMB', u'(Economy)', u'$400.00', u'China', u'Airport', u'Fee', u'(CN)', u'$13.80', u'DL', u'YR', u'surcharge', u'(YR)', u'$225.00', u'US', u'International', u'Departure', u'Tax', u'(US)', u'$18.30', u'US', u'September', u'11th', u'Security', u'Fee', u'(AY)', u'$5.60', u'US', u'Passenger', u'Facility', u'Charge', u'(XF)', u'$9.00', u'Subtotal', u'per', u'passenger', u'$671.70', u'Number', u'of', u'passengers', u'x1', u'Subtotal', u'For', u'1', u'adult', u'$671.70']\n",
      "no of rows 12\n",
      "m--------------- 0\n",
      "taxes Fare 1: Carrier DL ULE0WNMD DFW to CMB (rules)\n",
      "Passenger type ADT, one-way fare, booking code U, Q\n",
      "Covers DFW-DTW (Economy), DTW-PVG (Economy), PVG-CMB (Economy):$400.00\n",
      "m--------------- 1\n",
      "taxes China Airport Fee (CN):$13.80\n",
      "m--------------- 2\n"
     ]
    },
    {
     "name": "stderr",
     "output_type": "stream",
     "text": [
      "C:\\Users\\DELL\\Anaconda2\\lib\\site-packages\\ipykernel_launcher.py:145: DeprecationWarning: insert is deprecated. Use insert_one or insert_many instead.\n"
     ]
    },
    {
     "name": "stdout",
     "output_type": "stream",
     "text": [
      "taxes DL YR surcharge (YR):$225.00\n",
      "m--------------- 3\n",
      "taxes US International Departure Tax (US):$18.30\n",
      "m--------------- 4\n",
      "taxes US September 11th Security Fee (AY):$5.60\n",
      "m--------------- 5\n",
      "taxes US Passenger Facility Charge (XF):$9.00\n",
      "m--------------- 6\n",
      "taxes Subtotal per passenger:$671.70\n",
      "m--------------- 7\n",
      "taxes Number of passengers:x1\n",
      "m--------------- 8\n",
      "taxes Subtotal For 1 adult:$671.70\n",
      "m--------------- 9\n",
      "k---------missing 0\n",
      "k 1\n",
      "k---------missing 1\n",
      "k 2\n",
      "k---------missing 2\n",
      "k 3\n",
      "k---------missing 3\n",
      "k 4\n",
      "k---------missing 4\n",
      "k 5\n",
      "k---------missing 5\n",
      "k 6\n",
      "k---------missing 6\n",
      "k 7\n",
      "k---------missing 7\n",
      "k 8\n",
      "k---------missing 8\n",
      "k 9\n",
      "k---------missing 9\n",
      "k 10\n",
      "k---------missing 10\n",
      "k 11\n",
      "k---------missing 11\n",
      "k 12\n",
      "k---------missing 12\n",
      "k 13\n",
      "k---------missing 13\n",
      "k 14\n",
      "k---------missing 14\n",
      "k 15\n",
      "k---------missing 15\n",
      "k 16\n",
      "k---------missing 16\n",
      "k 17\n",
      "k---------missing 17\n",
      "k 18\n",
      "k---------missing 18\n",
      "k 19\n",
      "k---------missing 19\n",
      "k 20\n",
      "k---------missing 20\n",
      "k 21\n",
      "k---------missing 21\n",
      "k 22\n",
      "k---------missing 22\n",
      "k 23\n",
      "k---------missing 23\n",
      "k 24\n",
      "k---------missing 24\n",
      "k 25\n",
      "k---------missing 25\n",
      "k 26\n",
      "k---------missing 26\n",
      "k 27\n",
      "k---------missing 27\n",
      "k 28\n",
      "k---------missing 28\n",
      "k 29\n",
      "k---------missing 29\n",
      "k 30\n",
      "k---------missing 30\n",
      "k 31\n",
      "k---------missing 31\n",
      "k 32\n",
      "k---------missing 32\n",
      "k 33\n",
      "k---------missing 33\n",
      "k 34\n",
      "k---------missing 34\n",
      "k 35\n",
      "k---------missing 35\n",
      "k 36\n",
      "k---------missing 36\n",
      "k 37\n",
      "k---------missing 37\n",
      "k 38\n",
      "k---------missing 38\n",
      "k 39\n",
      "k---------missing 39\n",
      "k 40\n",
      "k---------missing 40\n",
      "k 41\n",
      "k---------missing 41\n",
      "k 42\n",
      "k---------missing 42\n",
      "k 43\n",
      "k---------missing 43\n",
      "k 44\n",
      "k---------missing 44\n",
      "k 45\n",
      "k---------missing 45\n",
      "k 46\n",
      "k---------missing 46\n",
      "k 47\n",
      "k---------missing 47\n",
      "k 48\n",
      "k---------missing 48\n",
      "k 49\n",
      "k---------missing 49\n",
      "k 50\n",
      "k---------missing 50\n",
      "k 51\n",
      "k---------missing 51\n",
      "k 52\n",
      "k---------missing 52\n",
      "k 53\n",
      "k---------missing 53\n",
      "k 54\n",
      "k---------missing 54\n",
      "k 55\n",
      "k---------missing 55\n",
      "k 56\n",
      "k---------missing 56\n",
      "k 57\n"
     ]
    },
    {
     "ename": "WebDriverException",
     "evalue": "Message: Tried to run command without establishing a connection\n",
     "output_type": "error",
     "traceback": [
      "\u001b[1;31m---------------------------------------------------------------------------\u001b[0m",
      "\u001b[1;31mWebDriverException\u001b[0m                        Traceback (most recent call last)",
      "\u001b[1;32m<ipython-input-43-7715a0e67d95>\u001b[0m in \u001b[0;36m<module>\u001b[1;34m()\u001b[0m\n\u001b[0;32m     63\u001b[0m         \u001b[1;32mprint\u001b[0m \u001b[1;34m\"k\"\u001b[0m\u001b[1;33m,\u001b[0m\u001b[0mk\u001b[0m\u001b[1;33m\u001b[0m\u001b[0m\n\u001b[0;32m     64\u001b[0m         \u001b[0mpixel\u001b[0m \u001b[1;33m+=\u001b[0m\u001b[1;36m50\u001b[0m\u001b[1;33m\u001b[0m\u001b[0m\n\u001b[1;32m---> 65\u001b[1;33m         \u001b[0mdriver\u001b[0m\u001b[1;33m.\u001b[0m\u001b[0mexecute_script\u001b[0m\u001b[1;33m(\u001b[0m\u001b[1;34m\"window.scrollTo(0,\"\u001b[0m\u001b[1;33m+\u001b[0m\u001b[0mstr\u001b[0m\u001b[1;33m(\u001b[0m\u001b[0mpixel\u001b[0m\u001b[1;33m)\u001b[0m\u001b[1;33m+\u001b[0m\u001b[1;34m\");\"\u001b[0m\u001b[1;33m)\u001b[0m\u001b[1;33m\u001b[0m\u001b[0m\n\u001b[0m\u001b[0;32m     66\u001b[0m         \u001b[0mtime\u001b[0m\u001b[1;33m.\u001b[0m\u001b[0msleep\u001b[0m\u001b[1;33m(\u001b[0m\u001b[1;36m2\u001b[0m\u001b[1;33m)\u001b[0m\u001b[1;33m\u001b[0m\u001b[0m\n\u001b[0;32m     67\u001b[0m         \u001b[1;32mtry\u001b[0m\u001b[1;33m:\u001b[0m\u001b[1;33m\u001b[0m\u001b[0m\n",
      "\u001b[1;32mC:\\Users\\DELL\\Anaconda2\\lib\\site-packages\\selenium\\webdriver\\remote\\webdriver.pyc\u001b[0m in \u001b[0;36mexecute_script\u001b[1;34m(self, script, *args)\u001b[0m\n\u001b[0;32m    541\u001b[0m         return self.execute(command, {\n\u001b[0;32m    542\u001b[0m             \u001b[1;34m'script'\u001b[0m\u001b[1;33m:\u001b[0m \u001b[0mscript\u001b[0m\u001b[1;33m,\u001b[0m\u001b[1;33m\u001b[0m\u001b[0m\n\u001b[1;32m--> 543\u001b[1;33m             'args': converted_args})['value']\n\u001b[0m\u001b[0;32m    544\u001b[0m \u001b[1;33m\u001b[0m\u001b[0m\n\u001b[0;32m    545\u001b[0m     \u001b[1;32mdef\u001b[0m \u001b[0mexecute_async_script\u001b[0m\u001b[1;33m(\u001b[0m\u001b[0mself\u001b[0m\u001b[1;33m,\u001b[0m \u001b[0mscript\u001b[0m\u001b[1;33m,\u001b[0m \u001b[1;33m*\u001b[0m\u001b[0margs\u001b[0m\u001b[1;33m)\u001b[0m\u001b[1;33m:\u001b[0m\u001b[1;33m\u001b[0m\u001b[0m\n",
      "\u001b[1;32mC:\\Users\\DELL\\Anaconda2\\lib\\site-packages\\selenium\\webdriver\\remote\\webdriver.pyc\u001b[0m in \u001b[0;36mexecute\u001b[1;34m(self, driver_command, params)\u001b[0m\n\u001b[0;32m    306\u001b[0m         \u001b[0mresponse\u001b[0m \u001b[1;33m=\u001b[0m \u001b[0mself\u001b[0m\u001b[1;33m.\u001b[0m\u001b[0mcommand_executor\u001b[0m\u001b[1;33m.\u001b[0m\u001b[0mexecute\u001b[0m\u001b[1;33m(\u001b[0m\u001b[0mdriver_command\u001b[0m\u001b[1;33m,\u001b[0m \u001b[0mparams\u001b[0m\u001b[1;33m)\u001b[0m\u001b[1;33m\u001b[0m\u001b[0m\n\u001b[0;32m    307\u001b[0m         \u001b[1;32mif\u001b[0m \u001b[0mresponse\u001b[0m\u001b[1;33m:\u001b[0m\u001b[1;33m\u001b[0m\u001b[0m\n\u001b[1;32m--> 308\u001b[1;33m             \u001b[0mself\u001b[0m\u001b[1;33m.\u001b[0m\u001b[0merror_handler\u001b[0m\u001b[1;33m.\u001b[0m\u001b[0mcheck_response\u001b[0m\u001b[1;33m(\u001b[0m\u001b[0mresponse\u001b[0m\u001b[1;33m)\u001b[0m\u001b[1;33m\u001b[0m\u001b[0m\n\u001b[0m\u001b[0;32m    309\u001b[0m             response['value'] = self._unwrap_value(\n\u001b[0;32m    310\u001b[0m                 response.get('value', None))\n",
      "\u001b[1;32mC:\\Users\\DELL\\Anaconda2\\lib\\site-packages\\selenium\\webdriver\\remote\\errorhandler.pyc\u001b[0m in \u001b[0;36mcheck_response\u001b[1;34m(self, response)\u001b[0m\n\u001b[0;32m    192\u001b[0m         \u001b[1;32melif\u001b[0m \u001b[0mexception_class\u001b[0m \u001b[1;33m==\u001b[0m \u001b[0mUnexpectedAlertPresentException\u001b[0m \u001b[1;32mand\u001b[0m \u001b[1;34m'alert'\u001b[0m \u001b[1;32min\u001b[0m \u001b[0mvalue\u001b[0m\u001b[1;33m:\u001b[0m\u001b[1;33m\u001b[0m\u001b[0m\n\u001b[0;32m    193\u001b[0m             \u001b[1;32mraise\u001b[0m \u001b[0mexception_class\u001b[0m\u001b[1;33m(\u001b[0m\u001b[0mmessage\u001b[0m\u001b[1;33m,\u001b[0m \u001b[0mscreen\u001b[0m\u001b[1;33m,\u001b[0m \u001b[0mstacktrace\u001b[0m\u001b[1;33m,\u001b[0m \u001b[0mvalue\u001b[0m\u001b[1;33m[\u001b[0m\u001b[1;34m'alert'\u001b[0m\u001b[1;33m]\u001b[0m\u001b[1;33m.\u001b[0m\u001b[0mget\u001b[0m\u001b[1;33m(\u001b[0m\u001b[1;34m'text'\u001b[0m\u001b[1;33m)\u001b[0m\u001b[1;33m)\u001b[0m\u001b[1;33m\u001b[0m\u001b[0m\n\u001b[1;32m--> 194\u001b[1;33m         \u001b[1;32mraise\u001b[0m \u001b[0mexception_class\u001b[0m\u001b[1;33m(\u001b[0m\u001b[0mmessage\u001b[0m\u001b[1;33m,\u001b[0m \u001b[0mscreen\u001b[0m\u001b[1;33m,\u001b[0m \u001b[0mstacktrace\u001b[0m\u001b[1;33m)\u001b[0m\u001b[1;33m\u001b[0m\u001b[0m\n\u001b[0m\u001b[0;32m    195\u001b[0m \u001b[1;33m\u001b[0m\u001b[0m\n\u001b[0;32m    196\u001b[0m     \u001b[1;32mdef\u001b[0m \u001b[0m_value_or_default\u001b[0m\u001b[1;33m(\u001b[0m\u001b[0mself\u001b[0m\u001b[1;33m,\u001b[0m \u001b[0mobj\u001b[0m\u001b[1;33m,\u001b[0m \u001b[0mkey\u001b[0m\u001b[1;33m,\u001b[0m \u001b[0mdefault\u001b[0m\u001b[1;33m)\u001b[0m\u001b[1;33m:\u001b[0m\u001b[1;33m\u001b[0m\u001b[0m\n",
      "\u001b[1;31mWebDriverException\u001b[0m: Message: Tried to run command without establishing a connection\n"
     ]
    }
   ],
   "source": [
    "from selenium import webdriver\n",
    "import time\n",
    "import pymongo\n",
    "import pandas as pd\n",
    "from selenium.common.exceptions import NoSuchElementException\n",
    "from selenium.webdriver.support.ui import WebDriverWait\n",
    "from bs4 import BeautifulSoup\n",
    "import requests\n",
    "from selenium.common.exceptions import StaleElementReferenceException\n",
    "from selenium.webdriver.common.keys import Keys\n",
    "\n",
    "client = pymongo.MongoClient(\"mongodb://localhost:27017\")\n",
    "db = client[\"Matrix\"]\n",
    "df=pd.read_csv('E:/FlynavaIntern/matrix.csv')\n",
    "od=df['Origin']\n",
    "des=df['Destination']\n",
    "driver = webdriver.Firefox()\n",
    "# driver=webdriver.PhantomJS('E:/FlynavaIntern/phantomjs.exe')\n",
    "def selection(od,destination):\n",
    "    url=('https://matrix.itasoftware.com')\n",
    "    driver.get(url)\n",
    "    one_way=driver.find_element_by_xpath('//*[@id=\"searchPanel-0\"]/div/table/tbody/tr[1]/td/table/tbody/tr/td[3]/div/div')\n",
    "    one_way.click()\n",
    "    OD=driver.find_element_by_xpath('/html/body/div[1]/div/div/div/div/div/div[2]/div[1]/div/table/tbody/tr/td[1]/div/div/table/tbody/tr[2]/td/div/div[2]/div/div/div[2]/div/div/div/input')\n",
    "    time.sleep(2)\n",
    "    OD.click()\n",
    "    OD.send_keys(od)\n",
    "    time.sleep(5)\n",
    "    OD.send_keys(Keys.RETURN)\n",
    "    Des=driver.find_element_by_xpath('/html/body/div[1]/div/div/div/div/div/div[2]/div[1]/div/table/tbody/tr/td[1]/div/div/table/tbody/tr[2]/td/div/div[2]/div/div/div[4]/div/div/div/input')\n",
    "    time.sleep(2)\n",
    "    Des.click()\n",
    "    Des.send_keys(destination)\n",
    "    time.sleep(3)\n",
    "    Des.send_keys(Keys.RETURN)\n",
    "    date=driver.find_element_by_xpath('/html/body/div[1]/div/div/div/div/div/div[2]/div[1]/div/table/tbody/tr/td[1]/div/div/table/tbody/tr[2]/td/div/div[2]/div/div/div[9]/div[1]/div[1]/div[2]/input')\n",
    "    date.click()\n",
    "    date_select=driver.find_element_by_xpath('/html/body/div[4]/div/table/tbody/tr[2]/td/div/table[1]/tbody/tr[2]/td[5]/div')\n",
    "    time.sleep(3)\n",
    "    date_select.click()\n",
    "    time.sleep(2)\n",
    "    Search=driver.find_element_by_xpath('//button[@type=\"button\"]')\n",
    "    Search.click()\n",
    "    time.sleep(10)\n",
    "    \n",
    "list1=[]\n",
    "\n",
    "for i in range(len(df)):\n",
    "    \n",
    "    selection(od[i],des[i])\n",
    "    driver.execute_script(\"window.scrollTo(0,-1);\")\n",
    "    time.sleep(5)                           \n",
    "    all_button=driver.find_element_by_xpath('//*[@id=\"contentwrapper\"]/div[1]/div/div[6]/div[4]/div[3]/a[5]')\n",
    "    time.sleep(2)\n",
    "    all_button.click()\n",
    "    driver.execute_script(\"window.scrollTo(0,0);\")\n",
    "    time.sleep(10)\n",
    "    No_airlines = driver.find_elements_by_xpath(\"//*[@class='IR6M2QD-u-j']\")\n",
    "    tot3=len(No_airlines)\n",
    "    print tot3\n",
    "    pixel=0\n",
    "    for k in range(tot3+1):\n",
    "        print \"k\",k\n",
    "        pixel +=50\n",
    "        driver.execute_script(\"window.scrollTo(0,\"+str(pixel)+\");\")\n",
    "        time.sleep(2)\n",
    "        try:\n",
    "            if driver.find_element_by_xpath('/html/body/div[5]/div/div/div/div[2]/button').is_displayed():\n",
    "                print \"in if\"\n",
    "                driver.find_element_by_xpath('/html/body/div[5]/div/div/div/div[2]/button').click()\n",
    "                time.sleep(2)\n",
    "                Search=driver.find_element_by_xpath('//button[@type=\"button\"]')\n",
    "                Search.click()\n",
    "                time.sleep(10)\n",
    "                driver.execute_script(\"window.scrollTo(0,-1);\")\n",
    "                time.sleep(3)\n",
    "                all_button=driver.find_element_by_xpath('//*[@id=\"contentwrapper\"]/div[1]/div/div[6]/div[4]/div[3]/a[5]')\n",
    "                time.sleep(3)\n",
    "                all_button.click()\n",
    "                driver.execute_script(\"window.scrollTo(0,0);\")\n",
    "                time.sleep(15)\n",
    "                driver.execute_script(\"window.scrollTo(0,\"+str(pixel)+\");\")\n",
    "\n",
    "        except:\n",
    "            \"in except\"\n",
    "            pass\n",
    "        try:\n",
    "            offer1=driver.find_element_by_xpath('/html/body/div[1]/div/div/div/div/div/div[2]/div[1]/div/div[6]/div[4]/div[2]/div/div['+str(k+1)+']/div[1]/table/tbody/tr/td[1]/div/button')\n",
    "            time.sleep(3)#2\n",
    "            airline_name=driver.find_element_by_xpath('/html/body/div[1]/div/div/div/div/div/div[2]/div[1]/div/div[6]/div[4]/div[2]/div/div['+str(k+1)+']/div[1]/table/tbody/tr/td[2]/table/tbody/tr/td[1]')\n",
    "            total_text=offer1.text + airline_name.text\n",
    "            print total_text\n",
    "            if total_text not in list1:\n",
    "                list1.append(total_text)\n",
    "                offer1=driver.find_element_by_xpath('/html/body/div[1]/div/div/div/div/div/div[2]/div[1]/div/div[6]/div[4]/div[2]/div/div['+str(k+1)+']/div[1]/table/tbody/tr/td[1]/div/button')\n",
    "                time.sleep(2)\n",
    "                offer1.click()\n",
    "                time.sleep(5)\n",
    "                driver.execute_script(\"window.scrollTo(0,1000);\")\n",
    "                time.sleep(1)\n",
    "                text1=driver.find_element_by_xpath('/html/body/div[1]/div/div/div/div/div/div[2]/div[1]/div/table/tbody/tr[3]/td/div/div/div[3]/table[1]/tbody/tr/td[1]/table/tbody/tr[2]/td/table/tbody')\n",
    "                text1=text1.text\n",
    "                line1=text1.split()\n",
    "                print \"line1\",line1\n",
    "\n",
    "                carrier=line1[3]\n",
    "                Farebasis_code=line1[4]\n",
    "                origin=line1[5]\n",
    "                destination=line1[7]\n",
    "                Pax_type=line1[11]\n",
    "                compartment=line4[2].strip('(,)')\n",
    "                if \"Economy\"== compartment:\n",
    "                    classs=\"Y\"\n",
    "                else:\n",
    "                    classs=\"J\"\n",
    "                \n",
    "\n",
    "                table4=driver.find_element_by_xpath('//*[@id=\"contentwrapper\"]/div[1]/div/table/tbody/tr[3]/td/div/div/div[3]/table[1]/tbody/tr/td[1]/table/tbody/tr[2]/td/table/tbody')\n",
    "                no_rows=table4.find_elements_by_tag_name(\"tr\")\n",
    "                count=0\n",
    "                for i in no_rows:\n",
    "                    count +=1\n",
    "                print \"no of rows\", count\n",
    "                value=count-3\n",
    "                for m in range(value+1):\n",
    "                    print \"m---------------\", m\n",
    "                    tr1=driver.find_element_by_xpath('//*[@id=\"contentwrapper\"]/div[1]/div/table/tbody/tr[3]/td/div/div/div[3]/table[1]/tbody/tr/td[1]/table/tbody/tr[2]/td/table/tbody/tr['+str(m+1)+']/td[1]')\n",
    "                    td1=driver.find_element_by_xpath('//*[@id=\"contentwrapper\"]/div[1]/div/table/tbody/tr[3]/td/div/div/div[3]/table[1]/tbody/tr/td[1]/table/tbody/tr[2]/td/table/tbody/tr['+str(m+1)+']/td[2]')\n",
    "                    taxes=tr1.text+\":\"+td1.text\n",
    "                    print \"taxes\",taxes\n",
    "                    \n",
    "                    \n",
    "                    data_doc = {\n",
    "\n",
    "                          \"OD\" : origin+destination,\n",
    "                          \"Carrier\" :carrier,\n",
    "                          \"compartment\" : classs,\n",
    "                          \"Farebasis_code\":Farebasis_code,\n",
    "                          \"Pax_type\" :Pax_type,\n",
    "                          \"Taxes\": {\n",
    "                            \"Taxes\"  :taxes\n",
    "                          }\n",
    "                           \n",
    "                          }\n",
    "                    db.matrix_info.insert(data_doc)\n",
    "                time.sleep(1)\n",
    "                print \"scroll\"\n",
    "                driver.execute_script(\"window.scrollTo(0,0);\")\n",
    "                time.sleep(4)                \n",
    "                flights=driver.find_element_by_xpath('/html/body/div[1]/div/div/div/div/div/div[2]/div[1]/div/div[1]/div[1]/table/tbody/tr/td[4]/div/a')\n",
    "                time.sleep(2)\n",
    "                flights.click() \n",
    "                time.sleep(2)\n",
    "                driver.execute_script(\"window.scrollTo(0,-1);\")\n",
    "                time.sleep(1)\n",
    "                all_button=driver.find_element_by_xpath('//*[@id=\"contentwrapper\"]/div[1]/div/div[6]/div[4]/div[3]/a[5]')\n",
    "                time.sleep(3)\n",
    "                all_button.click()\n",
    "                driver.execute_script(\"window.scrollTo(0,0);\")\n",
    "                time.sleep(15)\n",
    "        except:\n",
    "            print \"k---------missing\",k\n",
    "            pass\n",
    "\n",
    "# content = list2[0]\n",
    "# line1=content.splitlines()\n",
    "\n",
    "# line2=line1[0].split()\n",
    "# line3=line1[1].split()\n",
    "# line4=line1[2].split()\n",
    "\n"
   ]
  },
  {
   "cell_type": "code",
   "execution_count": null,
   "metadata": {
    "collapsed": true
   },
   "outputs": [],
   "source": []
  },
  {
   "cell_type": "code",
   "execution_count": null,
   "metadata": {
    "collapsed": true
   },
   "outputs": [],
   "source": []
  },
  {
   "cell_type": "code",
   "execution_count": null,
   "metadata": {
    "collapsed": true
   },
   "outputs": [],
   "source": [
    "//*[@id=\"contentwrapper\"]/div[1]/div/table/tbody/tr[3]/td/div/div/div[3]/table[1]/tbody/tr/td[1]/table/tbody/tr[2]/td/table/tbody/tr[1]/td[1]\n",
    "//*[@id=\"contentwrapper\"]/div[1]/div/table/tbody/tr[3]/td/div/div/div[3]/table[1]/tbody/tr/td[1]/table/tbody/tr[2]/td/table/tbody/tr[2]/td[1]\n",
    "//*[@id=\"contentwrapper\"]/div[1]/div/table/tbody/tr[3]/td/div/div/div[3]/table[1]/tbody/tr/td[1]/table/tbody/tr[2]/td/table/tbody/tr[10]/td[1]"
   ]
  },
  {
   "cell_type": "code",
   "execution_count": null,
   "metadata": {
    "collapsed": true
   },
   "outputs": [],
   "source": []
  },
  {
   "cell_type": "code",
   "execution_count": null,
   "metadata": {
    "collapsed": true
   },
   "outputs": [],
   "source": []
  },
  {
   "cell_type": "code",
   "execution_count": null,
   "metadata": {
    "collapsed": true
   },
   "outputs": [],
   "source": []
  },
  {
   "cell_type": "code",
   "execution_count": 10,
   "metadata": {
    "collapsed": true
   },
   "outputs": [
    {
     "ename": "NoSuchElementException",
     "evalue": "Message: Unable to locate element: //*[@id=\"contentwrapper\"]/div[1]/div/table/tbody/tr[3]/td/div/div/div[3]/table[1]/tbody/tr/td[1]/table/tbody/tr[2]/td/table/tbody\n",
     "output_type": "error",
     "traceback": [
      "\u001b[1;31m---------------------------------------------------------------------------\u001b[0m",
      "\u001b[1;31mNoSuchElementException\u001b[0m                    Traceback (most recent call last)",
      "\u001b[1;32m<ipython-input-10-6c9d09626396>\u001b[0m in \u001b[0;36m<module>\u001b[1;34m()\u001b[0m\n\u001b[0;32m      4\u001b[0m \u001b[0mdriver\u001b[0m\u001b[1;33m.\u001b[0m\u001b[0mget\u001b[0m\u001b[1;33m(\u001b[0m\u001b[0murl\u001b[0m\u001b[1;33m)\u001b[0m\u001b[1;33m\u001b[0m\u001b[0m\n\u001b[0;32m      5\u001b[0m \u001b[0mdriver\u001b[0m\u001b[1;33m.\u001b[0m\u001b[0mexecute_script\u001b[0m\u001b[1;33m(\u001b[0m\u001b[1;34m\"window.scrollTo(0,1000);\"\u001b[0m\u001b[1;33m)\u001b[0m\u001b[1;33m\u001b[0m\u001b[0m\n\u001b[1;32m----> 6\u001b[1;33m \u001b[0mtable4\u001b[0m\u001b[1;33m=\u001b[0m\u001b[0mdriver\u001b[0m\u001b[1;33m.\u001b[0m\u001b[0mfind_element_by_xpath\u001b[0m\u001b[1;33m(\u001b[0m\u001b[1;34m'//*[@id=\"contentwrapper\"]/div[1]/div/table/tbody/tr[3]/td/div/div/div[3]/table[1]/tbody/tr/td[1]/table/tbody/tr[2]/td/table/tbody'\u001b[0m\u001b[1;33m)\u001b[0m\u001b[1;33m\u001b[0m\u001b[0m\n\u001b[0m\u001b[0;32m      7\u001b[0m \u001b[0mno_rows\u001b[0m\u001b[1;33m=\u001b[0m\u001b[0mtable\u001b[0m\u001b[1;33m.\u001b[0m\u001b[0mfind_elements_by_tag_name\u001b[0m\u001b[1;33m(\u001b[0m\u001b[1;34m\"tr\"\u001b[0m\u001b[1;33m)\u001b[0m\u001b[1;33m\u001b[0m\u001b[0m\n\u001b[0;32m      8\u001b[0m \u001b[1;32mprint\u001b[0m \u001b[1;34m\"no of rows\"\u001b[0m\u001b[1;33m,\u001b[0m\u001b[0mlen\u001b[0m\u001b[1;33m(\u001b[0m\u001b[0mno_rows\u001b[0m\u001b[1;33m)\u001b[0m\u001b[1;33m\u001b[0m\u001b[0m\n",
      "\u001b[1;32mC:\\Users\\DELL\\Anaconda2\\lib\\site-packages\\selenium\\webdriver\\remote\\webdriver.pyc\u001b[0m in \u001b[0;36mfind_element_by_xpath\u001b[1;34m(self, xpath)\u001b[0m\n\u001b[0;32m    363\u001b[0m             \u001b[0mdriver\u001b[0m\u001b[1;33m.\u001b[0m\u001b[0mfind_element_by_xpath\u001b[0m\u001b[1;33m(\u001b[0m\u001b[1;34m'//div/td[1]'\u001b[0m\u001b[1;33m)\u001b[0m\u001b[1;33m\u001b[0m\u001b[0m\n\u001b[0;32m    364\u001b[0m         \"\"\"\n\u001b[1;32m--> 365\u001b[1;33m         \u001b[1;32mreturn\u001b[0m \u001b[0mself\u001b[0m\u001b[1;33m.\u001b[0m\u001b[0mfind_element\u001b[0m\u001b[1;33m(\u001b[0m\u001b[0mby\u001b[0m\u001b[1;33m=\u001b[0m\u001b[0mBy\u001b[0m\u001b[1;33m.\u001b[0m\u001b[0mXPATH\u001b[0m\u001b[1;33m,\u001b[0m \u001b[0mvalue\u001b[0m\u001b[1;33m=\u001b[0m\u001b[0mxpath\u001b[0m\u001b[1;33m)\u001b[0m\u001b[1;33m\u001b[0m\u001b[0m\n\u001b[0m\u001b[0;32m    366\u001b[0m \u001b[1;33m\u001b[0m\u001b[0m\n\u001b[0;32m    367\u001b[0m     \u001b[1;32mdef\u001b[0m \u001b[0mfind_elements_by_xpath\u001b[0m\u001b[1;33m(\u001b[0m\u001b[0mself\u001b[0m\u001b[1;33m,\u001b[0m \u001b[0mxpath\u001b[0m\u001b[1;33m)\u001b[0m\u001b[1;33m:\u001b[0m\u001b[1;33m\u001b[0m\u001b[0m\n",
      "\u001b[1;32mC:\\Users\\DELL\\Anaconda2\\lib\\site-packages\\selenium\\webdriver\\remote\\webdriver.pyc\u001b[0m in \u001b[0;36mfind_element\u001b[1;34m(self, by, value)\u001b[0m\n\u001b[0;32m    853\u001b[0m         return self.execute(Command.FIND_ELEMENT, {\n\u001b[0;32m    854\u001b[0m             \u001b[1;34m'using'\u001b[0m\u001b[1;33m:\u001b[0m \u001b[0mby\u001b[0m\u001b[1;33m,\u001b[0m\u001b[1;33m\u001b[0m\u001b[0m\n\u001b[1;32m--> 855\u001b[1;33m             'value': value})['value']\n\u001b[0m\u001b[0;32m    856\u001b[0m \u001b[1;33m\u001b[0m\u001b[0m\n\u001b[0;32m    857\u001b[0m     \u001b[1;32mdef\u001b[0m \u001b[0mfind_elements\u001b[0m\u001b[1;33m(\u001b[0m\u001b[0mself\u001b[0m\u001b[1;33m,\u001b[0m \u001b[0mby\u001b[0m\u001b[1;33m=\u001b[0m\u001b[0mBy\u001b[0m\u001b[1;33m.\u001b[0m\u001b[0mID\u001b[0m\u001b[1;33m,\u001b[0m \u001b[0mvalue\u001b[0m\u001b[1;33m=\u001b[0m\u001b[0mNone\u001b[0m\u001b[1;33m)\u001b[0m\u001b[1;33m:\u001b[0m\u001b[1;33m\u001b[0m\u001b[0m\n",
      "\u001b[1;32mC:\\Users\\DELL\\Anaconda2\\lib\\site-packages\\selenium\\webdriver\\remote\\webdriver.pyc\u001b[0m in \u001b[0;36mexecute\u001b[1;34m(self, driver_command, params)\u001b[0m\n\u001b[0;32m    306\u001b[0m         \u001b[0mresponse\u001b[0m \u001b[1;33m=\u001b[0m \u001b[0mself\u001b[0m\u001b[1;33m.\u001b[0m\u001b[0mcommand_executor\u001b[0m\u001b[1;33m.\u001b[0m\u001b[0mexecute\u001b[0m\u001b[1;33m(\u001b[0m\u001b[0mdriver_command\u001b[0m\u001b[1;33m,\u001b[0m \u001b[0mparams\u001b[0m\u001b[1;33m)\u001b[0m\u001b[1;33m\u001b[0m\u001b[0m\n\u001b[0;32m    307\u001b[0m         \u001b[1;32mif\u001b[0m \u001b[0mresponse\u001b[0m\u001b[1;33m:\u001b[0m\u001b[1;33m\u001b[0m\u001b[0m\n\u001b[1;32m--> 308\u001b[1;33m             \u001b[0mself\u001b[0m\u001b[1;33m.\u001b[0m\u001b[0merror_handler\u001b[0m\u001b[1;33m.\u001b[0m\u001b[0mcheck_response\u001b[0m\u001b[1;33m(\u001b[0m\u001b[0mresponse\u001b[0m\u001b[1;33m)\u001b[0m\u001b[1;33m\u001b[0m\u001b[0m\n\u001b[0m\u001b[0;32m    309\u001b[0m             response['value'] = self._unwrap_value(\n\u001b[0;32m    310\u001b[0m                 response.get('value', None))\n",
      "\u001b[1;32mC:\\Users\\DELL\\Anaconda2\\lib\\site-packages\\selenium\\webdriver\\remote\\errorhandler.pyc\u001b[0m in \u001b[0;36mcheck_response\u001b[1;34m(self, response)\u001b[0m\n\u001b[0;32m    192\u001b[0m         \u001b[1;32melif\u001b[0m \u001b[0mexception_class\u001b[0m \u001b[1;33m==\u001b[0m \u001b[0mUnexpectedAlertPresentException\u001b[0m \u001b[1;32mand\u001b[0m \u001b[1;34m'alert'\u001b[0m \u001b[1;32min\u001b[0m \u001b[0mvalue\u001b[0m\u001b[1;33m:\u001b[0m\u001b[1;33m\u001b[0m\u001b[0m\n\u001b[0;32m    193\u001b[0m             \u001b[1;32mraise\u001b[0m \u001b[0mexception_class\u001b[0m\u001b[1;33m(\u001b[0m\u001b[0mmessage\u001b[0m\u001b[1;33m,\u001b[0m \u001b[0mscreen\u001b[0m\u001b[1;33m,\u001b[0m \u001b[0mstacktrace\u001b[0m\u001b[1;33m,\u001b[0m \u001b[0mvalue\u001b[0m\u001b[1;33m[\u001b[0m\u001b[1;34m'alert'\u001b[0m\u001b[1;33m]\u001b[0m\u001b[1;33m.\u001b[0m\u001b[0mget\u001b[0m\u001b[1;33m(\u001b[0m\u001b[1;34m'text'\u001b[0m\u001b[1;33m)\u001b[0m\u001b[1;33m)\u001b[0m\u001b[1;33m\u001b[0m\u001b[0m\n\u001b[1;32m--> 194\u001b[1;33m         \u001b[1;32mraise\u001b[0m \u001b[0mexception_class\u001b[0m\u001b[1;33m(\u001b[0m\u001b[0mmessage\u001b[0m\u001b[1;33m,\u001b[0m \u001b[0mscreen\u001b[0m\u001b[1;33m,\u001b[0m \u001b[0mstacktrace\u001b[0m\u001b[1;33m)\u001b[0m\u001b[1;33m\u001b[0m\u001b[0m\n\u001b[0m\u001b[0;32m    195\u001b[0m \u001b[1;33m\u001b[0m\u001b[0m\n\u001b[0;32m    196\u001b[0m     \u001b[1;32mdef\u001b[0m \u001b[0m_value_or_default\u001b[0m\u001b[1;33m(\u001b[0m\u001b[0mself\u001b[0m\u001b[1;33m,\u001b[0m \u001b[0mobj\u001b[0m\u001b[1;33m,\u001b[0m \u001b[0mkey\u001b[0m\u001b[1;33m,\u001b[0m \u001b[0mdefault\u001b[0m\u001b[1;33m)\u001b[0m\u001b[1;33m:\u001b[0m\u001b[1;33m\u001b[0m\u001b[0m\n",
      "\u001b[1;31mNoSuchElementException\u001b[0m: Message: Unable to locate element: //*[@id=\"contentwrapper\"]/div[1]/div/table/tbody/tr[3]/td/div/div/div[3]/table[1]/tbody/tr/td[1]/table/tbody/tr[2]/td/table/tbody\n"
     ]
    }
   ],
   "source": [
    "from selenium import webdriver\n",
    "driver = webdriver.Firefox()\n",
    "url=('https://matrix.itasoftware.com/#view-details:research=DFWCTU;solution=0ExVHdDXaWY6MlQuSIHK7XB/THcR7QztnFNNZMVLhE4SML001')\n",
    "driver.get(url)\n",
    "driver.execute_script(\"window.scrollTo(0,1000);\")\n",
    "table4=driver.find_element_by_xpath('//*[@id=\"contentwrapper\"]/div[1]/div/table/tbody/tr[3]/td/div/div/div[3]/table[1]/tbody/tr/td[1]/table/tbody/tr[2]/td/table/tbody')\n",
    "no_rows=table.find_elements_by_tag_name(\"tr\")\n",
    "print \"no of rows\",len(no_rows)\n"
   ]
  },
  {
   "cell_type": "code",
   "execution_count": null,
   "metadata": {
    "collapsed": true
   },
   "outputs": [],
   "source": [
    "//*[@id=\"contentwrapper\"]/div[1]/div/table/tbody/tr[3]/td/div/div/div[3]/table[1]/tbody/tr/td[1]/table/tbody/tr[2]/td/table/tbody/tr[1]/td[1]"
   ]
  },
  {
   "cell_type": "code",
   "execution_count": null,
   "metadata": {
    "collapsed": true
   },
   "outputs": [],
   "source": [
    "//*[@id=\"contentwrapper\"]/div[1]/div/table/tbody/tr[3]/td/div/div/div[3]/table[1]/tbody/tr/td[1]/table/tbody/tr[2]/td/table/tbody/tr[2]/td[1]"
   ]
  },
  {
   "cell_type": "code",
   "execution_count": null,
   "metadata": {
    "collapsed": true
   },
   "outputs": [],
   "source": []
  },
  {
   "cell_type": "code",
   "execution_count": null,
   "metadata": {
    "collapsed": true
   },
   "outputs": [],
   "source": []
  },
  {
   "cell_type": "code",
   "execution_count": 16,
   "metadata": {},
   "outputs": [
    {
     "name": "stdout",
     "output_type": "stream",
     "text": [
      "[u'Fare 1: Carrier DL ULE0WNMD DFW to CMB (rules)', u'Passenger type ADT, one-way fare, booking code U, Q', u'Covers DFW-DTW (Economy), DTW-PVG (Economy), PVG-CMB (Economy)', u'$400.00', u'China Airport Fee (CN)', u'$13.80', u'DL YR surcharge (YR)', u'$225.00', u'US International Departure Tax (US)', u'$18.30', u'US September 11th Security Fee (AY)', u'$5.60', u'US Passenger Facility Charge (XF)', u'$9.00', u'Subtotal per passenger', u'$671.70', u'Number of passengers', u'x1', u'Subtotal For 1 adult', u'$671.70']\n",
      "[u'Fare', u'1:', u'Carrier', u'DL', u'ULE0WNMD', u'DFW', u'to', u'CMB', u'(rules)']\n",
      "[u'Covers', u'DFW-DTW', u'(Economy),', u'DTW-PVG', u'(Economy),', u'PVG-CMB', u'(Economy)']\n",
      "Economy\n",
      "Carrier DL \n",
      "Farebasis_code ULE0WNMD \n",
      "Origin DFW \n",
      "Destination CMB \n",
      "Pax_type ADT, \n",
      "Compartment Y\n"
     ]
    }
   ],
   "source": [
    "content = list2[0]\n",
    "line1=content.splitlines()\n",
    "print line1\n",
    "line2=line1[0].split()\n",
    "line3=line1[1].split()\n",
    "line4=line1[2].split()\n",
    "print line2\n",
    "print line4\n",
    "carrier=line2[3]\n",
    "Farebasis_code=line2[4]\n",
    "origin=line2[5]\n",
    "destination=line2[7]\n",
    "Pax_type=line3[2]\n",
    "compartment=line4[2].strip('(,)')\n",
    "print compartment\n",
    "if \"Economy\"== compartment:\n",
    "    classs=\"Y\"\n",
    "else:\n",
    "    classs=\"J\"\n",
    "print \"Carrier\",carrier,'\\n',\"Farebasis_code\",Farebasis_code,'\\n',\"Origin\",origin,'\\n',\"Destination\",destination,'\\n',\"Pax_type\",Pax_type,'\\n',\"Compartment\",classs\n"
   ]
  },
  {
   "cell_type": "code",
   "execution_count": null,
   "metadata": {
    "collapsed": true
   },
   "outputs": [],
   "source": []
  },
  {
   "cell_type": "code",
   "execution_count": null,
   "metadata": {
    "collapsed": true
   },
   "outputs": [],
   "source": []
  },
  {
   "cell_type": "code",
   "execution_count": 36,
   "metadata": {},
   "outputs": [
    {
     "name": "stdout",
     "output_type": "stream",
     "text": [
      "[u'Fare 1: Carrier DL ULE0WNMD DFW to CMB (rules)', u'Passenger type ADT, one-way fare, booking code U, Q', u'Covers DFW-LAX (Economy), LAX-PVG (Economy), PVG-CMB (Economy)', u'$400.00', u'China Airport Fee (CN)', u'$13.80', u'DL YR surcharge (YR)', u'$225.00', u'US International Departure Tax (US)', u'$18.00', u'US September 11th Security Fee (AY)', u'$5.60', u'US Passenger Facility Charge (XF)', u'$9.00', u'Subtotal per passenger', u'$671.40', u'Number of passengers', u'x1', u'Subtotal For 1 adult', u'$671.40']\n",
      "[u'Fare', u'1:', u'Carrier', u'DL', u'ULE0WNMD', u'DFW', u'to', u'CMB', u'(rules)']\n"
     ]
    }
   ],
   "source": [
    "content = list2[0]\n",
    "# print content\n",
    "line1=content.splitlines()\n",
    "print line1\n",
    "line2=line1[0].split()\n",
    "line3=line1[1].split()\n",
    "print line2\n",
    "# carrier=line2[3]\n",
    "# for i in range(len(line1)):\n",
    "#     if \"Carrier\" in line1[0]:\n",
    "#         print line2.index(\"Carrier\")\n",
    "         \n",
    "carrier=line2[3]\n",
    "Farebasis_code=line2[4]\n",
    "origin=line2[5]\n",
    "destination=line2[7]\n",
    "Pax_type=line3[2]\n",
    "\n"
   ]
  },
  {
   "cell_type": "code",
   "execution_count": null,
   "metadata": {
    "collapsed": true
   },
   "outputs": [],
   "source": []
  },
  {
   "cell_type": "code",
   "execution_count": null,
   "metadata": {
    "collapsed": true
   },
   "outputs": [],
   "source": []
  },
  {
   "cell_type": "code",
   "execution_count": 5,
   "metadata": {
    "collapsed": true
   },
   "outputs": [],
   "source": [
    "from selenium import webdriver\n",
    "driver = webdriver.Firefox()\n",
    "# driver=webdriver.PhantomJS('E:/FlynavaIntern/phantomjs.exe')\n",
    "\n",
    "url=('https://matrix.itasoftware.com/#search:research=DFWCMB')\n",
    "driver.get(url)\n",
    "one_way=driver.find_element_by_xpath('//button[@type=\"button\"]')\n",
    "one_way.click()"
   ]
  },
  {
   "cell_type": "code",
   "execution_count": null,
   "metadata": {
    "collapsed": true
   },
   "outputs": [],
   "source": []
  },
  {
   "cell_type": "code",
   "execution_count": null,
   "metadata": {
    "collapsed": true
   },
   "outputs": [],
   "source": []
  },
  {
   "cell_type": "code",
   "execution_count": null,
   "metadata": {
    "collapsed": true
   },
   "outputs": [],
   "source": []
  },
  {
   "cell_type": "code",
   "execution_count": 139,
   "metadata": {
    "collapsed": true
   },
   "outputs": [],
   "source": [
    "from selenium import webdriver\n",
    "import time\n",
    "import pandas as pd\n",
    "from selenium.common.exceptions import NoSuchElementException\n",
    "from selenium.webdriver.support.ui import WebDriverWait\n",
    "from bs4 import BeautifulSoup\n",
    "import requests\n",
    "from selenium.common.exceptions import StaleElementReferenceException\n",
    "from selenium.webdriver.common.keys import Keys"
   ]
  },
  {
   "cell_type": "code",
   "execution_count": 140,
   "metadata": {
    "collapsed": true
   },
   "outputs": [],
   "source": [
    "df=pd.read_csv('E:FlynavaIntern/matrix.csv')\n"
   ]
  },
  {
   "cell_type": "code",
   "execution_count": 145,
   "metadata": {},
   "outputs": [
    {
     "data": {
      "text/html": [
       "<div>\n",
       "<style>\n",
       "    .dataframe thead tr:only-child th {\n",
       "        text-align: right;\n",
       "    }\n",
       "\n",
       "    .dataframe thead th {\n",
       "        text-align: left;\n",
       "    }\n",
       "\n",
       "    .dataframe tbody tr th {\n",
       "        vertical-align: top;\n",
       "    }\n",
       "</style>\n",
       "<table border=\"1\" class=\"dataframe\">\n",
       "  <thead>\n",
       "    <tr style=\"text-align: right;\">\n",
       "      <th></th>\n",
       "      <th>Origin</th>\n",
       "      <th>Destination</th>\n",
       "    </tr>\n",
       "  </thead>\n",
       "  <tbody>\n",
       "    <tr>\n",
       "      <th>0</th>\n",
       "      <td>Dallas/Fort Worth International, TX (DFW)</td>\n",
       "      <td>Colombo Bandaranaike International, Sri Lanka ...</td>\n",
       "    </tr>\n",
       "    <tr>\n",
       "      <th>1</th>\n",
       "      <td>Dallas Love Field, TX (DAL)</td>\n",
       "      <td>Amsterdam Schiphol Airport, Netherlands (AMS)</td>\n",
       "    </tr>\n",
       "  </tbody>\n",
       "</table>\n",
       "</div>"
      ],
      "text/plain": [
       "                                      Origin  \\\n",
       "0  Dallas/Fort Worth International, TX (DFW)   \n",
       "1                Dallas Love Field, TX (DAL)   \n",
       "\n",
       "                                         Destination  \n",
       "0  Colombo Bandaranaike International, Sri Lanka ...  \n",
       "1      Amsterdam Schiphol Airport, Netherlands (AMS)  "
      ]
     },
     "execution_count": 145,
     "metadata": {},
     "output_type": "execute_result"
    }
   ],
   "source": [
    "df"
   ]
  },
  {
   "cell_type": "code",
   "execution_count": 141,
   "metadata": {
    "collapsed": true
   },
   "outputs": [],
   "source": [
    "od=df['Origin']\n",
    "des=df['Destination']\n"
   ]
  },
  {
   "cell_type": "code",
   "execution_count": 142,
   "metadata": {
    "collapsed": true
   },
   "outputs": [],
   "source": [
    "# driver = webdriver.Firefox()\n",
    "# driver=webdriver.PhantomJS('E:FlynavaIntern/phantomjs.exe')\n"
   ]
  },
  {
   "cell_type": "code",
   "execution_count": 143,
   "metadata": {},
   "outputs": [
    {
     "data": {
      "text/plain": [
       "<selenium.webdriver.phantomjs.webdriver.WebDriver (session=\"b1f161a0-ec98-11e7-95c3-63b36f888d65\")>"
      ]
     },
     "execution_count": 143,
     "metadata": {},
     "output_type": "execute_result"
    }
   ],
   "source": [
    "driver"
   ]
  },
  {
   "cell_type": "code",
   "execution_count": null,
   "metadata": {
    "collapsed": true
   },
   "outputs": [],
   "source": []
  },
  {
   "cell_type": "code",
   "execution_count": 144,
   "metadata": {
    "collapsed": true
   },
   "outputs": [],
   "source": [
    "def selection(od,destination):\n",
    "    url=('https://matrix.itasoftware.com')\n",
    "    driver.get(url)\n",
    "    one_way=driver.find_element_by_xpath('//*[@id=\"searchPanel-0\"]/div/table/tbody/tr[1]/td/table/tbody/tr/td[3]/div/div')\n",
    "    one_way.click()\n",
    "    OD=driver.find_element_by_xpath('/html/body/div[1]/div/div/div/div/div/div[2]/div[1]/div/table/tbody/tr/td[1]/div/div/table/tbody/tr[2]/td/div/div[2]/div/div/div[2]/div/div/div/input')\n",
    "    time.sleep(2)\n",
    "    OD.click()\n",
    "    OD.send_keys(od)\n",
    "    time.sleep(2)\n",
    "    OD.send_keys(Keys.RETURN)\n",
    "    Des=driver.find_element_by_xpath('/html/body/div[1]/div/div/div/div/div/div[2]/div[1]/div/table/tbody/tr/td[1]/div/div/table/tbody/tr[2]/td/div/div[2]/div/div/div[4]/div/div/div/input')\n",
    "    time.sleep(2)\n",
    "    Des.click()\n",
    "    Des.send_keys(destination)\n",
    "    time.sleep(2)\n",
    "    Des.send_keys(Keys.RETURN)\n",
    "    date=driver.find_element_by_xpath('/html/body/div[1]/div/div/div/div/div/div[2]/div[1]/div/table/tbody/tr/td[1]/div/div/table/tbody/tr[2]/td/div/div[2]/div/div/div[9]/div[1]/div[1]/div[2]/input')\n",
    "    date.click()\n",
    "    date_select=driver.find_element_by_xpath('/html/body/div[4]/div/table/tbody/tr[2]/td/div/table[2]/tbody/tr[2]/td[4]')\n",
    "    time.sleep(3)\n",
    "    date_select.click()\n",
    "    time.sleep(2)\n",
    "    Search=driver.find_element_by_xpath('//*[@id=\"searchButton-0\"]')\n",
    "    Search.click()\n",
    "    time.sleep(10)\n"
   ]
  },
  {
   "cell_type": "code",
   "execution_count": null,
   "metadata": {
    "collapsed": true
   },
   "outputs": [],
   "source": []
  },
  {
   "cell_type": "code",
   "execution_count": null,
   "metadata": {
    "collapsed": true
   },
   "outputs": [],
   "source": []
  },
  {
   "cell_type": "code",
   "execution_count": null,
   "metadata": {
    "collapsed": true
   },
   "outputs": [],
   "source": []
  },
  {
   "cell_type": "code",
   "execution_count": null,
   "metadata": {
    "collapsed": true
   },
   "outputs": [],
   "source": [
    "/html/body/div[1]/div/div/div/div/div/div[2]/div[1]/div/div[6]/div[4]/div[2]/div/div[1]/div[1]/table/tbody/tr/td[2]/table/tbody/tr/td[1]/div/div[2]\n",
    "/html/body/div[1]/div/div/div/div/div/div[2]/div[1]/div/div[6]/div[4]/div[2]/div/div[4]/div[1]/table/tbody/tr/td[2]/table/tbody/tr/td[1]/div/div"
   ]
  },
  {
   "cell_type": "code",
   "execution_count": null,
   "metadata": {
    "collapsed": true
   },
   "outputs": [],
   "source": [
    "/html/body/div[1]/div/div/div/div/div/div[2]/div[1]/div/div[6]/div[4]/div[2]/div/div[4]/div[1]/table/tbody/tr/td[2]/table/tbody/tr/td[1]\n",
    "/html/body/div[1]/div/div/div/div/div/div[2]/div[1]/div/div[6]/div[4]/div[2]/div/div[3]/div[1]/table/tbody/tr/td[2]/table/tbody/tr/td[1]"
   ]
  },
  {
   "cell_type": "code",
   "execution_count": null,
   "metadata": {
    "collapsed": true
   },
   "outputs": [],
   "source": []
  },
  {
   "cell_type": "code",
   "execution_count": null,
   "metadata": {
    "collapsed": true
   },
   "outputs": [],
   "source": [
    "/html/body/div[4]/div/table/tbody/tr[2]/td/div/table[2]/tbody/tr[2]/td[4]/div"
   ]
  },
  {
   "cell_type": "code",
   "execution_count": null,
   "metadata": {
    "collapsed": true
   },
   "outputs": [],
   "source": [
    "/html/body/div[5]/div/table/tbody/tr[2]/td/div/table[2]/tbody/tr[2]/td[4]/div"
   ]
  },
  {
   "cell_type": "code",
   "execution_count": null,
   "metadata": {
    "collapsed": true
   },
   "outputs": [],
   "source": [
    "/html/body/div[4]/div/table/tbody/tr[2]/td/div/table[2]/tbody/tr[2]/td[4]"
   ]
  },
  {
   "cell_type": "code",
   "execution_count": null,
   "metadata": {
    "collapsed": true
   },
   "outputs": [],
   "source": []
  },
  {
   "cell_type": "code",
   "execution_count": null,
   "metadata": {
    "collapsed": true
   },
   "outputs": [],
   "source": []
  }
 ],
 "metadata": {
  "kernelspec": {
   "display_name": "Python 2",
   "language": "python",
   "name": "python2"
  },
  "language_info": {
   "codemirror_mode": {
    "name": "ipython",
    "version": 2
   },
   "file_extension": ".py",
   "mimetype": "text/x-python",
   "name": "python",
   "nbconvert_exporter": "python",
   "pygments_lexer": "ipython2",
   "version": "2.7.13"
  }
 },
 "nbformat": 4,
 "nbformat_minor": 2
}
